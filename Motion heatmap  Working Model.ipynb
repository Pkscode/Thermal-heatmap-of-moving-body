{
 "cells": [
  {
   "cell_type": "code",
   "execution_count": 2,
   "metadata": {},
   "outputs": [
    {
     "name": "stdout",
     "output_type": "stream",
     "text": [
      "Collecting progress\n",
      "  Downloading https://files.pythonhosted.org/packages/38/ef/2e887b3d2b248916fc2121889ce68af8a16aaddbe82f9ae6533c24ff0d2b/progress-1.5.tar.gz\n",
      "Building wheels for collected packages: progress\n",
      "  Building wheel for progress (setup.py): started\n",
      "  Building wheel for progress (setup.py): finished with status 'done'\n",
      "  Stored in directory: C:\\Users\\sahoo\\AppData\\Local\\pip\\Cache\\wheels\\6c\\c8\\80\\32a294e3041f006c661838c05a411c7b7ffc60ff939d14e116\n",
      "Successfully built progress\n",
      "Installing collected packages: progress\n",
      "Successfully installed progress-1.5\n"
     ]
    }
   ],
   "source": [
    "! pip install progress"
   ]
  },
  {
   "cell_type": "code",
   "execution_count": 3,
   "metadata": {},
   "outputs": [],
   "source": [
    "import numpy as np\n",
    "import cv2\n",
    "import copy\n",
    "import os\n",
    "import re\n",
    "from progress.bar import Bar"
   ]
  },
  {
   "cell_type": "code",
   "execution_count": 8,
   "metadata": {},
   "outputs": [
    {
     "data": {
      "text/plain": [
       "-1"
      ]
     },
     "execution_count": 8,
     "metadata": {},
     "output_type": "execute_result"
    }
   ],
   "source": [
    "hog = cv2.HOGDescriptor()\n",
    "hog.setSVMDetector(cv2.HOGDescriptor_getDefaultPeopleDetector())\n",
    "\n",
    "cv2.startWindowThread()\n",
    "\n",
    "cap = cv2.VideoCapture(0)\n",
    "fgbg = cv2.bgsegm.createBackgroundSubtractorMOG()\n",
    "out = cv2.VideoWriter( 'output.avi', cv2.VideoWriter_fourcc(*'MJPG'),15., (640,480))\n",
    "heatmap = cv2.VideoWriter( 'heatmap.avi', cv2.VideoWriter_fourcc(*'MJPG'),15., (640,480))\n",
    "first_iteration = True\n",
    "while(True):\n",
    "    # Capture frame-by-frame\n",
    "    ret, frame = cap.read()\n",
    "    out.write(frame.astype('uint8'))\n",
    "\n",
    "    # resizing for faster detection\n",
    "    if first_iteration == True:\n",
    "        first_frame = copy.deepcopy(frame)\n",
    "        gray = cv2.cvtColor(frame, cv2.COLOR_BGR2GRAY)\n",
    "        height, width = gray.shape[:2]\n",
    "        accum_image = np.zeros((height, width), np.uint8)\n",
    "        first_iteration = False\n",
    "    \n",
    "    else:\n",
    "        thresh = 2\n",
    "        maxValue = 2\n",
    "        fgmask = fgbg.apply(frame)\n",
    "        ret, th1 = cv2.threshold(fgmask, thresh, maxValue, cv2.THRESH_BINARY)\n",
    "        \n",
    "        accum_image = cv2.add(accum_image, th1)\n",
    "        cv2.imwrite('./mask.jpg', accum_image)\n",
    "\n",
    "        color_image_video = cv2.applyColorMap(accum_image, cv2.COLORMAP_HOT)\n",
    "        video_frame = cv2.addWeighted(frame, 0.7, color_image_video, 0.7, 0)\n",
    "    \n",
    "        # Write the output video \n",
    "        heatmap.write(video_frame.astype('uint8'))\n",
    "        # Display the resulting frame\n",
    "        cv2.imshow('frame',video_frame)\n",
    "\n",
    "        if cv2.waitKey(1) & 0xFF == ord('q'):\n",
    "            break\n",
    "                     \n",
    "            \n",
    "color_image = cv2.applyColorMap(accum_image, cv2.COLORMAP_HOT)\n",
    "result_overlay = cv2.addWeighted(first_frame, 0.7, color_image, 0.7, 0)\n",
    "\n",
    "out.release()\n",
    "cap.release()\n",
    "heatmap.release()\n",
    "\n",
    "cv2.destroyAllWindows()\n",
    "cv2.waitKey(0)\n"
   ]
  },
  {
   "cell_type": "code",
   "execution_count": null,
   "metadata": {},
   "outputs": [],
   "source": []
  },
  {
   "cell_type": "code",
   "execution_count": null,
   "metadata": {},
   "outputs": [],
   "source": []
  }
 ],
 "metadata": {
  "kernelspec": {
   "display_name": "Python 3",
   "language": "python",
   "name": "python3"
  },
  "language_info": {
   "codemirror_mode": {
    "name": "ipython",
    "version": 3
   },
   "file_extension": ".py",
   "mimetype": "text/x-python",
   "name": "python",
   "nbconvert_exporter": "python",
   "pygments_lexer": "ipython3",
   "version": "3.7.3"
  }
 },
 "nbformat": 4,
 "nbformat_minor": 2
}
